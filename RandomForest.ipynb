{
 "cells": [
  {
   "cell_type": "code",
   "execution_count": 9,
   "metadata": {},
   "outputs": [],
   "source": [
    "import pandas as pd\n",
    "import numpy as np\n",
    "from sklearn.tree import DecisionTreeClassifier, export_text\n",
    "from sklearn.ensemble import BaggingClassifier, RandomForestClassifier\n",
    "from sklearn.metrics import ConfusionMatrixDisplay"
   ]
  },
  {
   "cell_type": "markdown",
   "metadata": {},
   "source": [
    "Read dataset and get overall insight on the data"
   ]
  },
  {
   "cell_type": "code",
   "execution_count": 2,
   "metadata": {},
   "outputs": [
    {
     "name": "stdout",
     "output_type": "stream",
     "text": [
      "<class 'pandas.core.frame.DataFrame'>\n",
      "RangeIndex: 4601 entries, 0 to 4600\n",
      "Data columns (total 58 columns):\n",
      " #   Column                      Non-Null Count  Dtype  \n",
      "---  ------                      --------------  -----  \n",
      " 0   word_freq_make              4601 non-null   float64\n",
      " 1   word_freq_address           4601 non-null   float64\n",
      " 2   word_freq_all               4601 non-null   float64\n",
      " 3   word_freq_3d                4601 non-null   float64\n",
      " 4   word_freq_our               4601 non-null   float64\n",
      " 5   word_freq_over              4601 non-null   float64\n",
      " 6   word_freq_remove            4601 non-null   float64\n",
      " 7   word_freq_internet          4601 non-null   float64\n",
      " 8   word_freq_order             4601 non-null   float64\n",
      " 9   word_freq_mail              4601 non-null   float64\n",
      " 10  word_freq_receive           4601 non-null   float64\n",
      " 11  word_freq_will              4601 non-null   float64\n",
      " 12  word_freq_people            4601 non-null   float64\n",
      " 13  word_freq_report            4601 non-null   float64\n",
      " 14  word_freq_addresses         4601 non-null   float64\n",
      " 15  word_freq_free              4601 non-null   float64\n",
      " 16  word_freq_business          4601 non-null   float64\n",
      " 17  word_freq_email             4601 non-null   float64\n",
      " 18  word_freq_you               4601 non-null   float64\n",
      " 19  word_freq_credit            4601 non-null   float64\n",
      " 20  word_freq_your              4601 non-null   float64\n",
      " 21  word_freq_font              4601 non-null   float64\n",
      " 22  word_freq_000               4601 non-null   float64\n",
      " 23  word_freq_money             4601 non-null   float64\n",
      " 24  word_freq_hp                4601 non-null   float64\n",
      " 25  word_freq_hpl               4601 non-null   float64\n",
      " 26  word_freq_george            4601 non-null   float64\n",
      " 27  word_freq_650               4601 non-null   float64\n",
      " 28  word_freq_lab               4601 non-null   float64\n",
      " 29  word_freq_labs              4601 non-null   float64\n",
      " 30  word_freq_telnet            4601 non-null   float64\n",
      " 31  word_freq_857               4601 non-null   float64\n",
      " 32  word_freq_data              4601 non-null   float64\n",
      " 33  word_freq_415               4601 non-null   float64\n",
      " 34  word_freq_85                4601 non-null   float64\n",
      " 35  word_freq_technology        4601 non-null   float64\n",
      " 36  word_freq_1999              4601 non-null   float64\n",
      " 37  word_freq_parts             4601 non-null   float64\n",
      " 38  word_freq_pm                4601 non-null   float64\n",
      " 39  word_freq_direct            4601 non-null   float64\n",
      " 40  word_freq_cs                4601 non-null   float64\n",
      " 41  word_freq_meeting           4601 non-null   float64\n",
      " 42  word_freq_original          4601 non-null   float64\n",
      " 43  word_freq_project           4601 non-null   float64\n",
      " 44  word_freq_re                4601 non-null   float64\n",
      " 45  word_freq_edu               4601 non-null   float64\n",
      " 46  word_freq_table             4601 non-null   float64\n",
      " 47  word_freq_conference        4601 non-null   float64\n",
      " 48  char_freq_semicolon         4601 non-null   float64\n",
      " 49  char_freq_soft_brackets     4601 non-null   float64\n",
      " 50  char_freq_hard_brackets     4601 non-null   float64\n",
      " 51  char_freq_exclamation_mark  4601 non-null   float64\n",
      " 52  char_freq_dollarsign        4601 non-null   float64\n",
      " 53  char_freq_numbersign        4601 non-null   float64\n",
      " 54  capital_run_length_average  4601 non-null   float64\n",
      " 55  capital_run_length_longest  4601 non-null   int64  \n",
      " 56  capital_run_length_total    4601 non-null   int64  \n",
      " 57  Class                       4601 non-null   object \n",
      "dtypes: float64(55), int64(2), object(1)\n",
      "memory usage: 2.0+ MB\n"
     ]
    }
   ],
   "source": [
    "url = 'https://uu-sml.github.io/course-sml-public/data/email.csv'\n",
    "email = pd.read_csv(url)\n",
    "email.info()"
   ]
  },
  {
   "cell_type": "markdown",
   "metadata": {},
   "source": [
    "Create a training set containing a random sample of $75\\%$ of the observations, and a test set containing the remaining observations."
   ]
  },
  {
   "cell_type": "code",
   "execution_count": 3,
   "metadata": {},
   "outputs": [],
   "source": [
    "dataset_size = email.shape[0]\n",
    "trainIndex = np.random.choice(dataset_size, size=int(0.75*dataset_size), replace=False)\n",
    "train_dataset = email.iloc[trainIndex]\n",
    "test_dataset = email.iloc[~email.index.isin(trainIndex)]"
   ]
  },
  {
   "cell_type": "markdown",
   "metadata": {},
   "source": [
    "Separate the datasets into features and labels (i.e., column `Class`)"
   ]
  },
  {
   "cell_type": "code",
   "execution_count": 4,
   "metadata": {},
   "outputs": [],
   "source": [
    "train_x, train_y = train_dataset.drop(columns=['Class'], inplace=False), train_dataset['Class']\n",
    "test_x, test_y = test_dataset.drop(columns=['Class'], inplace=False), test_dataset['Class']"
   ]
  },
  {
   "cell_type": "markdown",
   "metadata": {},
   "source": [
    "Fit a classification tree and compute the confusion matrix."
   ]
  },
  {
   "cell_type": "code",
   "execution_count": 22,
   "metadata": {},
   "outputs": [
    {
     "name": "stdout",
     "output_type": "stream",
     "text": [
      "|--- feature_51 <= 0.08\n",
      "|   |--- feature_6 <= 0.02\n",
      "|   |   |--- feature_52 <= 0.16\n",
      "|   |   |   |--- feature_15 <= 0.11\n",
      "|   |   |   |   |--- feature_23 <= 0.01\n",
      "|   |   |   |   |   |--- feature_21 <= 0.10\n",
      "|   |   |   |   |   |   |--- feature_27 <= 7.11\n",
      "|   |   |   |   |   |   |   |--- feature_5 <= 0.78\n",
      "|   |   |   |   |   |   |   |   |--- feature_4 <= 1.62\n",
      "|   |   |   |   |   |   |   |   |   |--- feature_20 <= 1.47\n",
      "|   |   |   |   |   |   |   |   |   |   |--- feature_10 <= 0.99\n",
      "|   |   |   |   |   |   |   |   |   |   |   |--- truncated branch of depth 2\n",
      "|   |   |   |   |   |   |   |   |   |   |--- feature_10 >  0.99\n",
      "|   |   |   |   |   |   |   |   |   |   |   |--- class: Spam\n",
      "|   |   |   |   |   |   |   |   |   |--- feature_20 >  1.47\n",
      "|   |   |   |   |   |   |   |   |   |   |--- feature_7 <= 0.14\n",
      "|   |   |   |   |   |   |   |   |   |   |   |--- truncated branch of depth 2\n",
      "|   |   |   |   |   |   |   |   |   |   |--- feature_7 >  0.14\n",
      "|   |   |   |   |   |   |   |   |   |   |   |--- truncated branch of depth 2\n",
      "|   |   |   |   |   |   |   |   |--- feature_4 >  1.62\n",
      "|   |   |   |   |   |   |   |   |   |--- feature_7 <= 0.22\n",
      "|   |   |   |   |   |   |   |   |   |   |--- feature_18 <= 1.88\n",
      "|   |   |   |   |   |   |   |   |   |   |   |--- truncated branch of depth 2\n",
      "|   |   |   |   |   |   |   |   |   |   |--- feature_18 >  1.88\n",
      "|   |   |   |   |   |   |   |   |   |   |   |--- truncated branch of depth 2\n",
      "|   |   |   |   |   |   |   |   |   |--- feature_7 >  0.22\n",
      "|   |   |   |   |   |   |   |   |   |   |--- class: Spam\n",
      "|   |   |   |   |   |   |   |--- feature_5 >  0.78\n",
      "|   |   |   |   |   |   |   |   |--- feature_55 <= 15.50\n",
      "|   |   |   |   |   |   |   |   |   |--- feature_32 <= 1.61\n",
      "|   |   |   |   |   |   |   |   |   |   |--- class: Non-spam\n",
      "|   |   |   |   |   |   |   |   |   |--- feature_32 >  1.61\n",
      "|   |   |   |   |   |   |   |   |   |   |--- class: Spam\n",
      "|   |   |   |   |   |   |   |   |--- feature_55 >  15.50\n",
      "|   |   |   |   |   |   |   |   |   |--- class: Spam\n",
      "|   |   |   |   |   |   |--- feature_27 >  7.11\n",
      "|   |   |   |   |   |   |   |--- class: Spam\n",
      "|   |   |   |   |   |--- feature_21 >  0.10\n",
      "|   |   |   |   |   |   |--- feature_51 <= 0.05\n",
      "|   |   |   |   |   |   |   |--- feature_45 <= 0.14\n",
      "|   |   |   |   |   |   |   |   |--- class: Spam\n",
      "|   |   |   |   |   |   |   |--- feature_45 >  0.14\n",
      "|   |   |   |   |   |   |   |   |--- class: Non-spam\n",
      "|   |   |   |   |   |   |--- feature_51 >  0.05\n",
      "|   |   |   |   |   |   |   |--- class: Non-spam\n",
      "|   |   |   |   |--- feature_23 >  0.01\n",
      "|   |   |   |   |   |--- feature_49 <= 0.08\n",
      "|   |   |   |   |   |   |--- feature_44 <= 0.23\n",
      "|   |   |   |   |   |   |   |--- feature_0 <= 0.21\n",
      "|   |   |   |   |   |   |   |   |--- class: Spam\n",
      "|   |   |   |   |   |   |   |--- feature_0 >  0.21\n",
      "|   |   |   |   |   |   |   |   |--- class: Non-spam\n",
      "|   |   |   |   |   |   |--- feature_44 >  0.23\n",
      "|   |   |   |   |   |   |   |--- class: Non-spam\n",
      "|   |   |   |   |   |--- feature_49 >  0.08\n",
      "|   |   |   |   |   |   |--- class: Non-spam\n",
      "|   |   |   |--- feature_15 >  0.11\n",
      "|   |   |   |   |--- feature_4 <= 1.09\n",
      "|   |   |   |   |   |--- feature_24 <= 0.06\n",
      "|   |   |   |   |   |   |--- feature_52 <= 0.01\n",
      "|   |   |   |   |   |   |   |--- feature_44 <= 0.15\n",
      "|   |   |   |   |   |   |   |   |--- feature_10 <= 0.28\n",
      "|   |   |   |   |   |   |   |   |   |--- feature_15 <= 3.85\n",
      "|   |   |   |   |   |   |   |   |   |   |--- feature_56 <= 61.50\n",
      "|   |   |   |   |   |   |   |   |   |   |   |--- class: Non-spam\n",
      "|   |   |   |   |   |   |   |   |   |   |--- feature_56 >  61.50\n",
      "|   |   |   |   |   |   |   |   |   |   |   |--- truncated branch of depth 2\n",
      "|   |   |   |   |   |   |   |   |   |--- feature_15 >  3.85\n",
      "|   |   |   |   |   |   |   |   |   |   |--- feature_54 <= 1.21\n",
      "|   |   |   |   |   |   |   |   |   |   |   |--- class: Non-spam\n",
      "|   |   |   |   |   |   |   |   |   |   |--- feature_54 >  1.21\n",
      "|   |   |   |   |   |   |   |   |   |   |   |--- class: Spam\n",
      "|   |   |   |   |   |   |   |   |--- feature_10 >  0.28\n",
      "|   |   |   |   |   |   |   |   |   |--- class: Spam\n",
      "|   |   |   |   |   |   |   |--- feature_44 >  0.15\n",
      "|   |   |   |   |   |   |   |   |--- class: Non-spam\n",
      "|   |   |   |   |   |   |--- feature_52 >  0.01\n",
      "|   |   |   |   |   |   |   |--- feature_2 <= 0.33\n",
      "|   |   |   |   |   |   |   |   |--- class: Spam\n",
      "|   |   |   |   |   |   |   |--- feature_2 >  0.33\n",
      "|   |   |   |   |   |   |   |   |--- feature_18 <= 4.55\n",
      "|   |   |   |   |   |   |   |   |   |--- class: Non-spam\n",
      "|   |   |   |   |   |   |   |   |--- feature_18 >  4.55\n",
      "|   |   |   |   |   |   |   |   |   |--- class: Spam\n",
      "|   |   |   |   |   |--- feature_24 >  0.06\n",
      "|   |   |   |   |   |   |--- class: Non-spam\n",
      "|   |   |   |   |--- feature_4 >  1.09\n",
      "|   |   |   |   |   |--- feature_20 <= 0.31\n",
      "|   |   |   |   |   |   |--- class: Non-spam\n",
      "|   |   |   |   |   |--- feature_20 >  0.31\n",
      "|   |   |   |   |   |   |--- feature_26 <= 0.58\n",
      "|   |   |   |   |   |   |   |--- class: Spam\n",
      "|   |   |   |   |   |   |--- feature_26 >  0.58\n",
      "|   |   |   |   |   |   |   |--- class: Non-spam\n",
      "|   |   |--- feature_52 >  0.16\n",
      "|   |   |   |--- feature_54 <= 1.63\n",
      "|   |   |   |   |--- class: Non-spam\n",
      "|   |   |   |--- feature_54 >  1.63\n",
      "|   |   |   |   |--- feature_45 <= 0.26\n",
      "|   |   |   |   |   |--- feature_24 <= 0.54\n",
      "|   |   |   |   |   |   |--- feature_49 <= 0.41\n",
      "|   |   |   |   |   |   |   |--- class: Spam\n",
      "|   |   |   |   |   |   |--- feature_49 >  0.41\n",
      "|   |   |   |   |   |   |   |--- feature_52 <= 0.46\n",
      "|   |   |   |   |   |   |   |   |--- class: Non-spam\n",
      "|   |   |   |   |   |   |   |--- feature_52 >  0.46\n",
      "|   |   |   |   |   |   |   |   |--- class: Spam\n",
      "|   |   |   |   |   |--- feature_24 >  0.54\n",
      "|   |   |   |   |   |   |--- class: Non-spam\n",
      "|   |   |   |   |--- feature_45 >  0.26\n",
      "|   |   |   |   |   |--- class: Non-spam\n",
      "|   |--- feature_6 >  0.02\n",
      "|   |   |--- feature_26 <= 0.08\n",
      "|   |   |   |--- feature_45 <= 0.14\n",
      "|   |   |   |   |--- feature_24 <= 0.15\n",
      "|   |   |   |   |   |--- feature_7 <= 1.67\n",
      "|   |   |   |   |   |   |--- feature_32 <= 1.58\n",
      "|   |   |   |   |   |   |   |--- feature_9 <= 1.70\n",
      "|   |   |   |   |   |   |   |   |--- feature_48 <= 0.07\n",
      "|   |   |   |   |   |   |   |   |   |--- feature_55 <= 5.50\n",
      "|   |   |   |   |   |   |   |   |   |   |--- feature_56 <= 74.50\n",
      "|   |   |   |   |   |   |   |   |   |   |   |--- class: Spam\n",
      "|   |   |   |   |   |   |   |   |   |   |--- feature_56 >  74.50\n",
      "|   |   |   |   |   |   |   |   |   |   |   |--- class: Non-spam\n",
      "|   |   |   |   |   |   |   |   |   |--- feature_55 >  5.50\n",
      "|   |   |   |   |   |   |   |   |   |   |--- class: Spam\n",
      "|   |   |   |   |   |   |   |   |--- feature_48 >  0.07\n",
      "|   |   |   |   |   |   |   |   |   |--- feature_11 <= 0.23\n",
      "|   |   |   |   |   |   |   |   |   |   |--- class: Spam\n",
      "|   |   |   |   |   |   |   |   |   |--- feature_11 >  0.23\n",
      "|   |   |   |   |   |   |   |   |   |   |--- class: Non-spam\n",
      "|   |   |   |   |   |   |   |--- feature_9 >  1.70\n",
      "|   |   |   |   |   |   |   |   |--- feature_56 <= 197.50\n",
      "|   |   |   |   |   |   |   |   |   |--- class: Non-spam\n",
      "|   |   |   |   |   |   |   |   |--- feature_56 >  197.50\n",
      "|   |   |   |   |   |   |   |   |   |--- class: Spam\n",
      "|   |   |   |   |   |   |--- feature_32 >  1.58\n",
      "|   |   |   |   |   |   |   |--- class: Non-spam\n",
      "|   |   |   |   |   |--- feature_7 >  1.67\n",
      "|   |   |   |   |   |   |--- class: Non-spam\n",
      "|   |   |   |   |--- feature_24 >  0.15\n",
      "|   |   |   |   |   |--- feature_25 <= 0.43\n",
      "|   |   |   |   |   |   |--- class: Non-spam\n",
      "|   |   |   |   |   |--- feature_25 >  0.43\n",
      "|   |   |   |   |   |   |--- class: Spam\n",
      "|   |   |   |--- feature_45 >  0.14\n",
      "|   |   |   |   |--- class: Non-spam\n",
      "|   |   |--- feature_26 >  0.08\n",
      "|   |   |   |--- class: Non-spam\n",
      "|--- feature_51 >  0.08\n",
      "|   |--- feature_55 <= 17.50\n",
      "|   |   |--- feature_15 <= 0.10\n",
      "|   |   |   |--- feature_52 <= 0.11\n",
      "|   |   |   |   |--- feature_6 <= 0.09\n",
      "|   |   |   |   |   |--- feature_16 <= 0.07\n",
      "|   |   |   |   |   |   |--- feature_54 <= 3.28\n",
      "|   |   |   |   |   |   |   |--- feature_7 <= 0.54\n",
      "|   |   |   |   |   |   |   |   |--- feature_51 <= 1.50\n",
      "|   |   |   |   |   |   |   |   |   |--- feature_23 <= 3.91\n",
      "|   |   |   |   |   |   |   |   |   |   |--- feature_10 <= 1.17\n",
      "|   |   |   |   |   |   |   |   |   |   |   |--- truncated branch of depth 2\n",
      "|   |   |   |   |   |   |   |   |   |   |--- feature_10 >  1.17\n",
      "|   |   |   |   |   |   |   |   |   |   |   |--- class: Spam\n",
      "|   |   |   |   |   |   |   |   |   |--- feature_23 >  3.91\n",
      "|   |   |   |   |   |   |   |   |   |   |--- class: Spam\n",
      "|   |   |   |   |   |   |   |   |--- feature_51 >  1.50\n",
      "|   |   |   |   |   |   |   |   |   |--- feature_44 <= 0.34\n",
      "|   |   |   |   |   |   |   |   |   |   |--- feature_54 <= 2.64\n",
      "|   |   |   |   |   |   |   |   |   |   |   |--- truncated branch of depth 2\n",
      "|   |   |   |   |   |   |   |   |   |   |--- feature_54 >  2.64\n",
      "|   |   |   |   |   |   |   |   |   |   |   |--- class: Spam\n",
      "|   |   |   |   |   |   |   |   |   |--- feature_44 >  0.34\n",
      "|   |   |   |   |   |   |   |   |   |   |--- class: Non-spam\n",
      "|   |   |   |   |   |   |   |--- feature_7 >  0.54\n",
      "|   |   |   |   |   |   |   |   |--- feature_37 <= 0.27\n",
      "|   |   |   |   |   |   |   |   |   |--- class: Spam\n",
      "|   |   |   |   |   |   |   |   |--- feature_37 >  0.27\n",
      "|   |   |   |   |   |   |   |   |   |--- class: Non-spam\n",
      "|   |   |   |   |   |   |--- feature_54 >  3.28\n",
      "|   |   |   |   |   |   |   |--- feature_54 <= 3.77\n",
      "|   |   |   |   |   |   |   |   |--- feature_55 <= 14.50\n",
      "|   |   |   |   |   |   |   |   |   |--- feature_49 <= 0.29\n",
      "|   |   |   |   |   |   |   |   |   |   |--- class: Spam\n",
      "|   |   |   |   |   |   |   |   |   |--- feature_49 >  0.29\n",
      "|   |   |   |   |   |   |   |   |   |   |--- class: Non-spam\n",
      "|   |   |   |   |   |   |   |   |--- feature_55 >  14.50\n",
      "|   |   |   |   |   |   |   |   |   |--- class: Non-spam\n",
      "|   |   |   |   |   |   |   |--- feature_54 >  3.77\n",
      "|   |   |   |   |   |   |   |   |--- class: Spam\n",
      "|   |   |   |   |   |--- feature_16 >  0.07\n",
      "|   |   |   |   |   |   |--- feature_24 <= 0.19\n",
      "|   |   |   |   |   |   |   |--- feature_45 <= 0.42\n",
      "|   |   |   |   |   |   |   |   |--- class: Spam\n",
      "|   |   |   |   |   |   |   |--- feature_45 >  0.42\n",
      "|   |   |   |   |   |   |   |   |--- class: Non-spam\n",
      "|   |   |   |   |   |   |--- feature_24 >  0.19\n",
      "|   |   |   |   |   |   |   |--- class: Non-spam\n",
      "|   |   |   |   |--- feature_6 >  0.09\n",
      "|   |   |   |   |   |--- feature_24 <= 0.23\n",
      "|   |   |   |   |   |   |--- feature_54 <= 3.14\n",
      "|   |   |   |   |   |   |   |--- class: Spam\n",
      "|   |   |   |   |   |   |--- feature_54 >  3.14\n",
      "|   |   |   |   |   |   |   |--- feature_54 <= 3.61\n",
      "|   |   |   |   |   |   |   |   |--- class: Non-spam\n",
      "|   |   |   |   |   |   |   |--- feature_54 >  3.61\n",
      "|   |   |   |   |   |   |   |   |--- class: Spam\n",
      "|   |   |   |   |   |--- feature_24 >  0.23\n",
      "|   |   |   |   |   |   |--- class: Non-spam\n",
      "|   |   |   |--- feature_52 >  0.11\n",
      "|   |   |   |   |--- feature_54 <= 1.77\n",
      "|   |   |   |   |   |--- feature_18 <= 3.34\n",
      "|   |   |   |   |   |   |--- class: Non-spam\n",
      "|   |   |   |   |   |--- feature_18 >  3.34\n",
      "|   |   |   |   |   |   |--- class: Spam\n",
      "|   |   |   |   |--- feature_54 >  1.77\n",
      "|   |   |   |   |   |--- feature_24 <= 0.14\n",
      "|   |   |   |   |   |   |--- feature_45 <= 1.52\n",
      "|   |   |   |   |   |   |   |--- feature_32 <= 0.23\n",
      "|   |   |   |   |   |   |   |   |--- class: Spam\n",
      "|   |   |   |   |   |   |   |--- feature_32 >  0.23\n",
      "|   |   |   |   |   |   |   |   |--- class: Non-spam\n",
      "|   |   |   |   |   |   |--- feature_45 >  1.52\n",
      "|   |   |   |   |   |   |   |--- class: Non-spam\n",
      "|   |   |   |   |   |--- feature_24 >  0.14\n",
      "|   |   |   |   |   |   |--- feature_5 <= 0.64\n",
      "|   |   |   |   |   |   |   |--- class: Non-spam\n",
      "|   |   |   |   |   |   |--- feature_5 >  0.64\n",
      "|   |   |   |   |   |   |   |--- class: Spam\n",
      "|   |   |--- feature_15 >  0.10\n",
      "|   |   |   |--- feature_36 <= 0.28\n",
      "|   |   |   |   |--- feature_45 <= 0.12\n",
      "|   |   |   |   |   |--- feature_24 <= 0.84\n",
      "|   |   |   |   |   |   |--- feature_12 <= 1.47\n",
      "|   |   |   |   |   |   |   |--- feature_26 <= 0.60\n",
      "|   |   |   |   |   |   |   |   |--- feature_10 <= 1.30\n",
      "|   |   |   |   |   |   |   |   |   |--- feature_11 <= 4.59\n",
      "|   |   |   |   |   |   |   |   |   |   |--- feature_56 <= 41.50\n",
      "|   |   |   |   |   |   |   |   |   |   |   |--- truncated branch of depth 2\n",
      "|   |   |   |   |   |   |   |   |   |   |--- feature_56 >  41.50\n",
      "|   |   |   |   |   |   |   |   |   |   |   |--- truncated branch of depth 2\n",
      "|   |   |   |   |   |   |   |   |   |--- feature_11 >  4.59\n",
      "|   |   |   |   |   |   |   |   |   |   |--- class: Non-spam\n",
      "|   |   |   |   |   |   |   |   |--- feature_10 >  1.30\n",
      "|   |   |   |   |   |   |   |   |   |--- class: Non-spam\n",
      "|   |   |   |   |   |   |   |--- feature_26 >  0.60\n",
      "|   |   |   |   |   |   |   |   |--- class: Non-spam\n",
      "|   |   |   |   |   |   |--- feature_12 >  1.47\n",
      "|   |   |   |   |   |   |   |--- class: Non-spam\n",
      "|   |   |   |   |   |--- feature_24 >  0.84\n",
      "|   |   |   |   |   |   |--- class: Non-spam\n",
      "|   |   |   |   |--- feature_45 >  0.12\n",
      "|   |   |   |   |   |--- class: Non-spam\n",
      "|   |   |   |--- feature_36 >  0.28\n",
      "|   |   |   |   |--- class: Non-spam\n",
      "|   |--- feature_55 >  17.50\n",
      "|   |   |--- feature_24 <= 0.39\n",
      "|   |   |   |--- feature_45 <= 0.20\n",
      "|   |   |   |   |--- feature_26 <= 0.21\n",
      "|   |   |   |   |   |--- feature_41 <= 0.67\n",
      "|   |   |   |   |   |   |--- feature_47 <= 0.48\n",
      "|   |   |   |   |   |   |   |--- feature_11 <= 2.80\n",
      "|   |   |   |   |   |   |   |   |--- feature_25 <= 0.30\n",
      "|   |   |   |   |   |   |   |   |   |--- feature_1 <= 3.20\n",
      "|   |   |   |   |   |   |   |   |   |   |--- feature_48 <= 2.65\n",
      "|   |   |   |   |   |   |   |   |   |   |   |--- truncated branch of depth 2\n",
      "|   |   |   |   |   |   |   |   |   |   |--- feature_48 >  2.65\n",
      "|   |   |   |   |   |   |   |   |   |   |   |--- class: Non-spam\n",
      "|   |   |   |   |   |   |   |   |   |--- feature_1 >  3.20\n",
      "|   |   |   |   |   |   |   |   |   |   |--- class: Non-spam\n",
      "|   |   |   |   |   |   |   |   |--- feature_25 >  0.30\n",
      "|   |   |   |   |   |   |   |   |   |--- class: Non-spam\n",
      "|   |   |   |   |   |   |   |--- feature_11 >  2.80\n",
      "|   |   |   |   |   |   |   |   |--- feature_6 <= 0.34\n",
      "|   |   |   |   |   |   |   |   |   |--- class: Non-spam\n",
      "|   |   |   |   |   |   |   |   |--- feature_6 >  0.34\n",
      "|   |   |   |   |   |   |   |   |   |--- class: Spam\n",
      "|   |   |   |   |   |   |--- feature_47 >  0.48\n",
      "|   |   |   |   |   |   |   |--- class: Non-spam\n",
      "|   |   |   |   |   |--- feature_41 >  0.67\n",
      "|   |   |   |   |   |   |--- class: Non-spam\n",
      "|   |   |   |   |--- feature_26 >  0.21\n",
      "|   |   |   |   |   |--- class: Non-spam\n",
      "|   |   |   |--- feature_45 >  0.20\n",
      "|   |   |   |   |--- feature_14 <= 0.71\n",
      "|   |   |   |   |   |--- feature_35 <= 0.14\n",
      "|   |   |   |   |   |   |--- class: Non-spam\n",
      "|   |   |   |   |   |--- feature_35 >  0.14\n",
      "|   |   |   |   |   |   |--- class: Spam\n",
      "|   |   |   |   |--- feature_14 >  0.71\n",
      "|   |   |   |   |   |--- class: Spam\n",
      "|   |   |--- feature_24 >  0.39\n",
      "|   |   |   |--- feature_15 <= 0.74\n",
      "|   |   |   |   |--- class: Non-spam\n",
      "|   |   |   |--- feature_15 >  0.74\n",
      "|   |   |   |   |--- feature_33 <= 0.11\n",
      "|   |   |   |   |   |--- class: Spam\n",
      "|   |   |   |   |--- feature_33 >  0.11\n",
      "|   |   |   |   |   |--- class: Non-spam\n",
      "\n"
     ]
    },
    {
     "data": {
      "text/plain": [
       "<sklearn.metrics._plot.confusion_matrix.ConfusionMatrixDisplay at 0x12d48ef50>"
      ]
     },
     "execution_count": 22,
     "metadata": {},
     "output_type": "execute_result"
    },
    {
     "data": {
      "image/png": "[encoded data removed]",
      "text/plain": [
       "<Figure size 432x288 with 2 Axes>"
      ]
     },
     "metadata": {
      "needs_background": "light"
     },
     "output_type": "display_data"
    }
   ],
   "source": [
    "tree_classifier = DecisionTreeClassifier(max_depth=12)\n",
    "tree_classifier.fit(train_x, train_y)\n",
    "print(export_text(tree_classifier))\n",
    "predictions = tree_classifier.predict(test_x)\n",
    "ConfusionMatrixDisplay.from_predictions(y_true = test_y, y_pred=predictions, normalize='all')"
   ]
  },
  {
   "cell_type": "markdown",
   "metadata": {},
   "source": [
    "Use the bagging approach to learn a classifier `sklearn.ensemble.BaggingClassifier()` and compute the confusion matrix."
   ]
  },
  {
   "cell_type": "code",
   "execution_count": 41,
   "metadata": {},
   "outputs": [
    {
     "name": "stdout",
     "output_type": "stream",
     "text": [
      "Out-of-bag accuracy estimate: 0.9347826086956522\n"
     ]
    },
    {
     "data": {
      "text/plain": [
       "<sklearn.metrics._plot.confusion_matrix.ConfusionMatrixDisplay at 0x12dad31d0>"
      ]
     },
     "execution_count": 41,
     "metadata": {},
     "output_type": "execute_result"
    },
    {
     "data": {
      "image/png": "[encoded data removed]",
      "text/plain": [
       "<Figure size 432x288 with 2 Axes>"
      ]
     },
     "metadata": {
      "needs_background": "light"
     },
     "output_type": "display_data"
    }
   ],
   "source": [
    "bagging_classifier = BaggingClassifier(n_estimators=20, max_samples=0.7, oob_score=True)\n",
    "bagging_classifier.fit(train_x, train_y)\n",
    "print(f'Out-of-bag accuracy estimate: {bagging_classifier.oob_score_}')\n",
    "predictions = bagging_classifier.predict(test_x)\n",
    "ConfusionMatrixDisplay.from_predictions(y_true = test_y, y_pred=predictions, normalize='all')"
   ]
  },
  {
   "cell_type": "markdown",
   "metadata": {},
   "source": [
    " Learn a random forest classifier using the function `sklearn.ensemble.RandomForestClassifier()` and compute the confusion matrix."
   ]
  },
  {
   "cell_type": "code",
   "execution_count": 82,
   "metadata": {},
   "outputs": [
    {
     "name": "stderr",
     "output_type": "stream",
     "text": [
      "/usr/local/lib/python3.7/site-packages/sklearn/base.py:442: UserWarning: X does not have valid feature names, but RandomForestClassifier was fitted with feature names\n",
      "  \"X does not have valid feature names, but\"\n"
     ]
    },
    {
     "name": "stdout",
     "output_type": "stream",
     "text": [
      "Out-of-bag accuracy estimate: 0.9472463768115942\n"
     ]
    },
    {
     "data": {
      "text/plain": [
       "<sklearn.metrics._plot.confusion_matrix.ConfusionMatrixDisplay at 0x12d7fa4d0>"
      ]
     },
     "execution_count": 82,
     "metadata": {},
     "output_type": "execute_result"
    },
    {
     "data": {
      "image/png": "[encoded data removed]",
      "text/plain": [
       "<Figure size 432x288 with 2 Axes>"
      ]
     },
     "metadata": {
      "needs_background": "light"
     },
     "output_type": "display_data"
    }
   ],
   "source": [
    "rf_classifier = RandomForestClassifier(n_estimators=100, max_features='auto', max_samples=0.6, max_depth=20, oob_score=True)\n",
    "rf_classifier.fit(train_x, train_y)\n",
    "print(f'Out-of-bag accuracy estimate: {rf_classifier.oob_score_}')\n",
    "predictions = rf_classifier.predict(test_x)\n",
    "ConfusionMatrixDisplay.from_predictions(y_true = test_y, y_pred=predictions, normalize='all')"
   ]
  }
 ],
 "metadata": {
  "interpreter": {
   "hash": "a1c5fd8e37ea77e4af6b00daf60e64770ad383e5f02c738e10b3858235c6b36e"
  },
  "kernelspec": {
   "display_name": "Python 3.7.4 64-bit ('venv': venv)",
   "name": "python3"
  },
  "language_info": {
   "codemirror_mode": {
    "name": "ipython",
    "version": 3
   },
   "file_extension": ".py",
   "mimetype": "text/x-python",
   "name": "python",
   "nbconvert_exporter": "python",
   "pygments_lexer": "ipython3",
   "version": "3.7.4"
  },
  "orig_nbformat": 4
 },
 "nbformat": 4,
 "nbformat_minor": 2
}
