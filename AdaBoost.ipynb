{
 "cells": [
  {
   "cell_type": "markdown",
   "metadata": {},
   "source": [
    "***Exponential loss vs misclasification loss***\n",
    "\n",
    "\n",
    "In boosting, the classes are labeled (for convenience) as $+1$ and $-1$, respectively. Moreover, the classifier $\\widehat{y}(x)$ is expressed on the form $\\widehat{y}(x) = \\operatorname{sign}\\left(c(x)\\right)$ (i.e., a thresholding at $0$ of some real-valued function $c(x)$). Assume that a function $\\widehat{c}(x)$ is learned from training data such that we can make predictions $\\widehat{y}(x) = \\operatorname*{sign}\\left(\\widehat{c}(x)\\right)$. For this case, the exponential and misclassification losses are studied in the following table.\n",
    "\n",
    "| ${\\widehat{c}{(x_\\star)}}$ | $\\widehat{y}_\\star$ | Exponential loss <br>$\\mathrm{exp}{\\left(-y_\\star\\widehat{c}{(x_\\star)}\\right)}$ | Misclassification loss<br> $\\mathbb{I}\\left(y_\\star\\neq\\widehat{y}_\\star\\right)$ | $y_\\star$|\n",
    "|:---:|:---:|:---:|:---:|:---:|\n",
    "| 0.3  |   1   |  1.3499    |   1   |  -1  |\n",
    "|-0.2  |   -1  |  0.8187    |   0   |  -1  |\n",
    "| 1.5  |   1   |  0.2231    |   0   |   1  |\n",
    "|-4.3  |   -1  |  73.700    |   1   |   1  |\n",
    "\n",
    "The exponential loss is more informative than the misclassification loss, as it indicates the quality of a prediction depending on the margin of an outcome of the real-valued function $c(x)$ (i.e., how close or distant from the true label the prediction was). This information can be used when training a classifier to assign heavier weights to the data points with worse predictions, so that the model can better learn features to better predict them."
   ]
  },
  {
   "cell_type": "code",
   "execution_count": 2,
   "metadata": {},
   "outputs": [],
   "source": [
    "import pandas as pd\n",
    "import numpy as np\n",
    "import matplotlib.pyplot as plt\n",
    "\n",
    "from sklearn import tree\n",
    "from sklearn.ensemble import BaggingClassifier, AdaBoostClassifier, GradientBoostingClassifier\n",
    "from sklearn.metrics import ConfusionMatrixDisplay"
   ]
  },
  {
   "cell_type": "markdown",
   "metadata": {},
   "source": [
    "Read dataset and get overall insight on the data"
   ]
  },
  {
   "cell_type": "code",
   "execution_count": 3,
   "metadata": {},
   "outputs": [
    {
     "name": "stdout",
     "output_type": "stream",
     "text": [
      "<class 'pandas.core.frame.DataFrame'>\n",
      "RangeIndex: 4601 entries, 0 to 4600\n",
      "Data columns (total 58 columns):\n",
      " #   Column                      Non-Null Count  Dtype  \n",
      "---  ------                      --------------  -----  \n",
      " 0   word_freq_make              4601 non-null   float64\n",
      " 1   word_freq_address           4601 non-null   float64\n",
      " 2   word_freq_all               4601 non-null   float64\n",
      " 3   word_freq_3d                4601 non-null   float64\n",
      " 4   word_freq_our               4601 non-null   float64\n",
      " 5   word_freq_over              4601 non-null   float64\n",
      " 6   word_freq_remove            4601 non-null   float64\n",
      " 7   word_freq_internet          4601 non-null   float64\n",
      " 8   word_freq_order             4601 non-null   float64\n",
      " 9   word_freq_mail              4601 non-null   float64\n",
      " 10  word_freq_receive           4601 non-null   float64\n",
      " 11  word_freq_will              4601 non-null   float64\n",
      " 12  word_freq_people            4601 non-null   float64\n",
      " 13  word_freq_report            4601 non-null   float64\n",
      " 14  word_freq_addresses         4601 non-null   float64\n",
      " 15  word_freq_free              4601 non-null   float64\n",
      " 16  word_freq_business          4601 non-null   float64\n",
      " 17  word_freq_email             4601 non-null   float64\n",
      " 18  word_freq_you               4601 non-null   float64\n",
      " 19  word_freq_credit            4601 non-null   float64\n",
      " 20  word_freq_your              4601 non-null   float64\n",
      " 21  word_freq_font              4601 non-null   float64\n",
      " 22  word_freq_000               4601 non-null   float64\n",
      " 23  word_freq_money             4601 non-null   float64\n",
      " 24  word_freq_hp                4601 non-null   float64\n",
      " 25  word_freq_hpl               4601 non-null   float64\n",
      " 26  word_freq_george            4601 non-null   float64\n",
      " 27  word_freq_650               4601 non-null   float64\n",
      " 28  word_freq_lab               4601 non-null   float64\n",
      " 29  word_freq_labs              4601 non-null   float64\n",
      " 30  word_freq_telnet            4601 non-null   float64\n",
      " 31  word_freq_857               4601 non-null   float64\n",
      " 32  word_freq_data              4601 non-null   float64\n",
      " 33  word_freq_415               4601 non-null   float64\n",
      " 34  word_freq_85                4601 non-null   float64\n",
      " 35  word_freq_technology        4601 non-null   float64\n",
      " 36  word_freq_1999              4601 non-null   float64\n",
      " 37  word_freq_parts             4601 non-null   float64\n",
      " 38  word_freq_pm                4601 non-null   float64\n",
      " 39  word_freq_direct            4601 non-null   float64\n",
      " 40  word_freq_cs                4601 non-null   float64\n",
      " 41  word_freq_meeting           4601 non-null   float64\n",
      " 42  word_freq_original          4601 non-null   float64\n",
      " 43  word_freq_project           4601 non-null   float64\n",
      " 44  word_freq_re                4601 non-null   float64\n",
      " 45  word_freq_edu               4601 non-null   float64\n",
      " 46  word_freq_table             4601 non-null   float64\n",
      " 47  word_freq_conference        4601 non-null   float64\n",
      " 48  char_freq_semicolon         4601 non-null   float64\n",
      " 49  char_freq_soft_brackets     4601 non-null   float64\n",
      " 50  char_freq_hard_brackets     4601 non-null   float64\n",
      " 51  char_freq_exclamation_mark  4601 non-null   float64\n",
      " 52  char_freq_dollarsign        4601 non-null   float64\n",
      " 53  char_freq_numbersign        4601 non-null   float64\n",
      " 54  capital_run_length_average  4601 non-null   float64\n",
      " 55  capital_run_length_longest  4601 non-null   int64  \n",
      " 56  capital_run_length_total    4601 non-null   int64  \n",
      " 57  Class                       4601 non-null   object \n",
      "dtypes: float64(55), int64(2), object(1)\n",
      "memory usage: 2.0+ MB\n"
     ]
    }
   ],
   "source": [
    "url = 'https://uu-sml.github.io/course-sml-public/data/email.csv'\n",
    "email = pd.read_csv(url)\n",
    "email.info()"
   ]
  },
  {
   "cell_type": "markdown",
   "metadata": {},
   "source": [
    "Create a training set containing a random sample of $75\\%$ of the observations, and a test set containing the remaining observations."
   ]
  },
  {
   "cell_type": "code",
   "execution_count": 5,
   "metadata": {},
   "outputs": [],
   "source": [
    "trainIndex = np.random.choice(email.shape[0], size=int(0.75*len(email)), replace=False)\n",
    "train_dataset = email.iloc[trainIndex]\n",
    "test_dataset = email.iloc[~email.index.isin(trainIndex)]"
   ]
  },
  {
   "cell_type": "markdown",
   "metadata": {},
   "source": [
    "Separate the datasets into features and labels (i.e., column `Class`)"
   ]
  },
  {
   "cell_type": "code",
   "execution_count": 6,
   "metadata": {},
   "outputs": [],
   "source": [
    "train_x, train_y = train_dataset.drop(columns=['Class'], inplace=False), train_dataset['Class']\n",
    "test_x, test_y = test_dataset.drop(columns=['Class'], inplace=False), test_dataset['Class']"
   ]
  },
  {
   "cell_type": "markdown",
   "metadata": {},
   "source": [
    "Use the AdaBoost approach to learn a classifier `sklearn.ensemble.AdaBoostClassifier()` and compute the confusion matrix."
   ]
  },
  {
   "cell_type": "code",
   "execution_count": 24,
   "metadata": {},
   "outputs": [
    {
     "name": "stderr",
     "output_type": "stream",
     "text": [
      "/usr/local/lib/python3.7/site-packages/sklearn/base.py:442: UserWarning: X does not have valid feature names, but AdaBoostClassifier was fitted with feature names\n",
      "  \"X does not have valid feature names, but\"\n"
     ]
    },
    {
     "data": {
      "text/plain": [
       "<sklearn.metrics._plot.confusion_matrix.ConfusionMatrixDisplay at 0x1290d1150>"
      ]
     },
     "execution_count": 24,
     "metadata": {},
     "output_type": "execute_result"
    },
    {
     "data": {
      "image/png": "[encoded data removed]",
      "text/plain": [
       "<Figure size 432x288 with 2 Axes>"
      ]
     },
     "metadata": {
      "needs_background": "light"
     },
     "output_type": "display_data"
    }
   ],
   "source": [
    "base_classifier = BaggingClassifier(n_estimators=10, max_samples=0.7)\n",
    "adaboost_classifier = AdaBoostClassifier(base_estimator=base_classifier, n_estimators=50, learning_rate=1.0)\n",
    "adaboost_classifier.fit(train_x, train_y)\n",
    "predictions = adaboost_classifier.predict(test_x)\n",
    "ConfusionMatrixDisplay.from_predictions(y_true = test_y, y_pred=predictions, normalize='all')"
   ]
  },
  {
   "cell_type": "markdown",
   "metadata": {},
   "source": [
    "The script below illustrates the AdaBoost algorithm in the same way as was done in the lecture."
   ]
  },
  {
   "cell_type": "code",
   "execution_count": 15,
   "metadata": {},
   "outputs": [
    {
     "data": {
      "image/png": "[encoded data removed]",
      "text/plain": [
       "<Figure size 432x288 with 1 Axes>"
      ]
     },
     "metadata": {
      "needs_background": "light"
     },
     "output_type": "display_data"
    },
    {
     "data": {
      "image/png": "[encoded data removed]",
      "text/plain": [
       "<Figure size 432x288 with 1 Axes>"
      ]
     },
     "metadata": {
      "needs_background": "light"
     },
     "output_type": "display_data"
    },
    {
     "data": {
      "image/png": "[encoded data removed]",
      "text/plain": [
       "<Figure size 432x288 with 1 Axes>"
      ]
     },
     "metadata": {
      "needs_background": "light"
     },
     "output_type": "display_data"
    },
    {
     "data": {
      "image/png": "[encoded data removed]",
      "text/plain": [
       "<Figure size 432x288 with 1 Axes>"
      ]
     },
     "metadata": {
      "needs_background": "light"
     },
     "output_type": "display_data"
    },
    {
     "data": {
      "image/png": "[encoded data removed]",
      "text/plain": [
       "<Figure size 432x288 with 1 Axes>"
      ]
     },
     "metadata": {
      "needs_background": "light"
     },
     "output_type": "display_data"
    }
   ],
   "source": [
    "# Prepare the data\n",
    "X1 = np.array([0.2358,0.1252,0.4278,0.6398,0.6767,0.8733,0.3648,0.6336,0.3433,0.8410])\n",
    "X2 = np.array([0.1761,0.4465,0.7539,0.9037,0.7111,0.8414,0.6060,0.5107,0.1430,0.1994])\n",
    "X = np.column_stack([X1,X2])\n",
    "y = np.array([1,1,1,1,1,-1,-1,-1,-1,-1]) # the class labels are 1 and -1\n",
    "n = len(y)\n",
    "\n",
    "# Plot the data\n",
    "fig, ax = plt.subplots()\n",
    "ax.set_xlim((0, 1))\n",
    "ax.set_ylim((0, 1))\n",
    "ax.plot(X1[y==1], X2[y==1], 'x', color='red')\n",
    "ax.plot(X1[y==-1], X2[y==-1], 'o', color='blue')\n",
    "ax.set_xlabel('$X_1$')\n",
    "ax.set_ylabel('$X_2$')\n",
    "\n",
    "# Define help variables\n",
    "stumps = []\n",
    "alpha = []\n",
    "w = np.repeat(1/n, n) # boosting weights: start with equal weights\n",
    "B = 3\n",
    "\n",
    "# Learn the boosting classifier\n",
    "for b in range(B):\n",
    "    # Prepare plots\n",
    "    fig, ax = plt.subplots()\n",
    "    ax.set_xlim((0, 1))\n",
    "    ax.set_ylim((0, 1))\n",
    "    ax.set_xlabel('$x_1$')\n",
    "    ax.set_ylabel('$x_2$')\n",
    "\n",
    "    # Use a decision stump (tree with depth 1) as base classifier\n",
    "    model = tree.DecisionTreeClassifier(max_depth=1)\n",
    "    model.fit(X, y, sample_weight=w)\n",
    "\n",
    "    # Save the model in each step\n",
    "    stumps.append(model)\n",
    "\n",
    "    # Plot the decision boundary\n",
    "    split_variable = model.tree_.feature[0]\n",
    "    split_value = model.tree_.threshold[0]\n",
    "    if split_variable == 0:\n",
    "        x1 = [0, split_value, split_value, 0]\n",
    "        x2 = [0, 0, 1, 1]\n",
    "        ax.fill(x1, x2, 'lightsalmon', alpha=0.5)\n",
    "        x1 = [split_value, 1, 1, split_value]\n",
    "        ax.fill(x1, x2, 'skyblue', alpha=0.5)\n",
    "    elif split_variable == 1:\n",
    "        x1 = [0, 1, 1, 0]\n",
    "        x2 = [split_value, split_value, 1, 1]\n",
    "        ax.fill(x1, x2, 'lightsalmon', alpha=0.5)\n",
    "        x2 = [0, 0, split_value, split_value]\n",
    "        ax.fill(x1, x2, 'skyblue', alpha=0.5)\n",
    "    \n",
    "    # Plot the data\n",
    "    ax.scatter(X1[y==1], X2[y==1], s=50, facecolors='red')\n",
    "    ax.scatter(X1[y==-1], X2[y==-1], s=50, facecolors='blue')\n",
    "    \n",
    "    # Compute and plot the boosting weights for the next iteration\n",
    "    correct = model.predict(X) == y\n",
    "    ax.scatter(X1[~correct], X2[~correct], s=300, facecolors='none', edgecolors='k')\n",
    "\n",
    "    W = np.sum(w) \n",
    "    We = np.sum(w[~correct]) # sum of incorrect weights\n",
    "\n",
    "    em = We/W\n",
    "    a = 1/2*np.log((1-em)/em) # compute the alpha weights\n",
    "    alpha.append(a)\n",
    "\n",
    "    w[correct] = w[correct] * np.exp(-a) # omega weights\n",
    "    w[~correct] = w[~correct] * np.exp(a)\n",
    "\n",
    "# Using the boosting model to predict test inputs\n",
    "def boost_predict(X):\n",
    "    pred = []\n",
    "    for j in range(len(X)):\n",
    "        predictions = np.empty(B)\n",
    "        for i in range(B):\n",
    "            predictions[i] = stumps[i].predict(X[j,:].reshape(1,-1))\n",
    "        C = np.sum(np.array(alpha)[predictions==1]) - np.sum(np.array(alpha)[predictions==-1])\n",
    "        pred.append(np.sign(C))\n",
    "    return pred\n",
    "\n",
    "\n",
    "# predict all pixels in the plot, i.e., plot the decision boundary\n",
    "fig, ax = plt.subplots()\n",
    "ax.set_xlim((0, 1))\n",
    "ax.set_ylim((0, 1))\n",
    "ax.set_xlabel('$x_1$')\n",
    "ax.set_ylabel('$x_2$')\n",
    "xs1 = np.arange(0, 1.02, 0.03)\n",
    "xs2 = np.arange(0, 1.02, 0.03)\n",
    "x1, x2 = np.meshgrid(xs1, xs2) \n",
    "X_all = np.column_stack([x1.flatten(),x2.flatten()])\n",
    "prediction = boost_predict(X_all)\n",
    "\n",
    "colors = np.where(np.array(prediction)==1,'lightsalmon', 'skyblue')\n",
    "ax.scatter(x1.flatten(), x2.flatten(), s = 90, marker='s', c=colors)\n",
    "ax.scatter(X1[y==1], X2[y==1], s=50, facecolors='red')\n",
    "ax.scatter(X1[y==-1], X2[y==-1], s=50, facecolors='blue')\n",
    "\n",
    "plt.show()"
   ]
  }
 ],
 "metadata": {
  "interpreter": {
   "hash": "a1c5fd8e37ea77e4af6b00daf60e64770ad383e5f02c738e10b3858235c6b36e"
  },
  "kernelspec": {
   "display_name": "Python 3.7.4 64-bit ('venv': venv)",
   "name": "python3"
  },
  "language_info": {
   "codemirror_mode": {
    "name": "ipython",
    "version": 3
   },
   "file_extension": ".py",
   "mimetype": "text/x-python",
   "name": "python",
   "nbconvert_exporter": "python",
   "pygments_lexer": "ipython3",
   "version": "3.7.4"
  },
  "orig_nbformat": 4
 },
 "nbformat": 4,
 "nbformat_minor": 2
}
