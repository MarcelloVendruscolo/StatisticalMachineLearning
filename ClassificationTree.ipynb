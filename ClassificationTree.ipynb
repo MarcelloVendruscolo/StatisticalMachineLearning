{
 "cells": [
  {
   "cell_type": "code",
   "execution_count": 1,
   "metadata": {},
   "outputs": [],
   "source": [
    "import pandas as pd\n",
    "import numpy as np\n",
    "from sklearn.tree import DecisionTreeClassifier, export_text\n",
    "from sklearn.metrics import confusion_matrix, ConfusionMatrixDisplay"
   ]
  },
  {
   "cell_type": "markdown",
   "metadata": {},
   "source": [
    "**Orange Juice Data:**\n",
    "This problem involves the `OJ` dataset. The data contains 1070 purchases where the customer either purchased Citrus Hill or Minute Maid Orange Juice. A number of characteristics of the customer and product are recorded. The dataset consists of 1070 observations on the following 18 variables:\n",
    "\n",
    "`Purchase`: A factor with levels CH and MM indicating whether the customer purchased Citrus Hill or Minute Maid Orange Juice  \n",
    "`WeekofPurchase`: Week of purchase  \n",
    "`StoreID`: Store ID  \n",
    "`PriceCH`: Price charged for CH  \n",
    "`PriceMM`: Price charged for MM  \n",
    "`DiscCH`: Discount offered for CH  \n",
    "`DiscMM`: Discount offered for MM  \n",
    "`SpecialCH`: Indicator of special on CH  \n",
    "`SpecialMM`: Indicator of special on MM  \n",
    "`LoyalCH`: Customer brand loyalty for CH  \n",
    "`SalePriceMM`: Sale price for MM  \n",
    "`SalePriceCH`: Sale price for CH  \n",
    "`PriceDiff`: Sale price of MM less sale price of CH  \n",
    "`Store7`: A factor with levels No and Yes indicating whether the sale is at Store 7  \n",
    "`PctDiscMM`: Percentage discount for MM  \n",
    "`PctDiscCH`: Percentage discount for CH  \n",
    "`ListPriceDiff`: List price of MM less list price of CH  \n",
    "`STORE`: Which of 5 possible stores the sale occured at"
   ]
  },
  {
   "cell_type": "markdown",
   "metadata": {},
   "source": [
    "Read dataset and get overall insight on the data"
   ]
  },
  {
   "cell_type": "code",
   "execution_count": 15,
   "metadata": {},
   "outputs": [
    {
     "name": "stdout",
     "output_type": "stream",
     "text": [
      "<class 'pandas.core.frame.DataFrame'>\n",
      "RangeIndex: 1070 entries, 0 to 1069\n",
      "Data columns (total 18 columns):\n",
      " #   Column          Non-Null Count  Dtype  \n",
      "---  ------          --------------  -----  \n",
      " 0   Purchase        1070 non-null   object \n",
      " 1   WeekofPurchase  1070 non-null   int64  \n",
      " 2   StoreID         1070 non-null   int64  \n",
      " 3   PriceCH         1070 non-null   float64\n",
      " 4   PriceMM         1070 non-null   float64\n",
      " 5   DiscCH          1070 non-null   float64\n",
      " 6   DiscMM          1070 non-null   float64\n",
      " 7   SpecialCH       1070 non-null   int64  \n",
      " 8   SpecialMM       1070 non-null   int64  \n",
      " 9   LoyalCH         1070 non-null   float64\n",
      " 10  SalePriceMM     1070 non-null   float64\n",
      " 11  SalePriceCH     1070 non-null   float64\n",
      " 12  PriceDiff       1070 non-null   float64\n",
      " 13  Store7          1070 non-null   object \n",
      " 14  PctDiscMM       1070 non-null   float64\n",
      " 15  PctDiscCH       1070 non-null   float64\n",
      " 16  ListPriceDiff   1070 non-null   float64\n",
      " 17  STORE           1070 non-null   int64  \n",
      "dtypes: float64(11), int64(5), object(2)\n",
      "memory usage: 150.6+ KB\n"
     ]
    }
   ],
   "source": [
    "OJ = pd.read_csv('https://uu-sml.github.io/course-sml-public/data/oj.csv')\n",
    "OJ.info()"
   ]
  },
  {
   "cell_type": "markdown",
   "metadata": {},
   "source": [
    "Handle qualitative data (i.e., object data type)"
   ]
  },
  {
   "cell_type": "code",
   "execution_count": 16,
   "metadata": {},
   "outputs": [],
   "source": [
    "OJ = pd.get_dummies(OJ, columns=['Store7'])"
   ]
  },
  {
   "cell_type": "markdown",
   "metadata": {},
   "source": [
    "Create a training dataset containing a random sample of 800 observations, and a test dataset containing the remaining observations."
   ]
  },
  {
   "cell_type": "code",
   "execution_count": 17,
   "metadata": {},
   "outputs": [],
   "source": [
    "trainIndex = np.random.choice(OJ.shape[0], size=800, replace=False)\n",
    "train_dataset = OJ.iloc[trainIndex]\n",
    "test_dataset = OJ.iloc[~OJ.index.isin(trainIndex)]"
   ]
  },
  {
   "cell_type": "markdown",
   "metadata": {},
   "source": [
    "Split datasets into features and label dataframes"
   ]
  },
  {
   "cell_type": "code",
   "execution_count": 18,
   "metadata": {},
   "outputs": [],
   "source": [
    "train_x, train_y = train_dataset.drop(columns=['Purchase']), train_dataset['Purchase']\n",
    "test_x, test_y = test_dataset.drop(columns=['Purchase']), test_dataset['Purchase']"
   ]
  },
  {
   "cell_type": "markdown",
   "metadata": {},
   "source": [
    "Learn a classification tree from the training data using the function `sklearn.tree.DecisionTreeClassifier()`, with\n",
    "`Purchase` as the output and the other variables as inputs. Don't forget to handle qulitative variables correctly. To avoid severe overfit, you have to add some constraints to the tree, using, e.g., a maximum depth of 2 (`max_depth=2`)."
   ]
  },
  {
   "cell_type": "code",
   "execution_count": 19,
   "metadata": {},
   "outputs": [
    {
     "data": {
      "text/plain": [
       "DecisionTreeClassifier(max_depth=2)"
      ]
     },
     "execution_count": 19,
     "metadata": {},
     "output_type": "execute_result"
    }
   ],
   "source": [
    "tree_classifier = DecisionTreeClassifier(max_depth=2)\n",
    "tree_classifier.fit(train_x, train_y)"
   ]
  },
  {
   "cell_type": "markdown",
   "metadata": {},
   "source": [
    "Visualize the tree and interpret the result."
   ]
  },
  {
   "cell_type": "code",
   "execution_count": 20,
   "metadata": {},
   "outputs": [
    {
     "name": "stdout",
     "output_type": "stream",
     "text": [
      "|--- feature_8 <= 0.50\n",
      "|   |--- feature_8 <= 0.28\n",
      "|   |   |--- class: MM\n",
      "|   |--- feature_8 >  0.28\n",
      "|   |   |--- class: MM\n",
      "|--- feature_8 >  0.50\n",
      "|   |--- feature_8 <= 0.71\n",
      "|   |   |--- class: CH\n",
      "|   |--- feature_8 >  0.71\n",
      "|   |   |--- class: CH\n",
      "\n"
     ]
    }
   ],
   "source": [
    "print(export_text(tree_classifier))"
   ]
  },
  {
   "cell_type": "markdown",
   "metadata": {},
   "source": [
    "Predict the response on the test data, and produce a confusion matrix comparing the test labels to the predicted test labels. What is the test error rate?"
   ]
  },
  {
   "cell_type": "code",
   "execution_count": 23,
   "metadata": {},
   "outputs": [
    {
     "data": {
      "text/plain": [
       "<sklearn.metrics._plot.confusion_matrix.ConfusionMatrixDisplay at 0x135de05d0>"
      ]
     },
     "execution_count": 23,
     "metadata": {},
     "output_type": "execute_result"
    },
    {
     "data": {
      "image/png": "[encoded data removed]",
      "text/plain": [
       "<Figure size 432x288 with 2 Axes>"
      ]
     },
     "metadata": {
      "needs_background": "light"
     },
     "output_type": "display_data"
    }
   ],
   "source": [
    "predictions = tree_classifier.predict(test_x)\n",
    "cm = confusion_matrix(y_true=test_y, y_pred=predictions, normalize='all')\n",
    "cm = ConfusionMatrixDisplay(cm)\n",
    "cm.plot()"
   ]
  }
 ],
 "metadata": {
  "interpreter": {
   "hash": "a1c5fd8e37ea77e4af6b00daf60e64770ad383e5f02c738e10b3858235c6b36e"
  },
  "kernelspec": {
   "display_name": "Python 3.7.4 64-bit ('venv': venv)",
   "name": "python3"
  },
  "language_info": {
   "codemirror_mode": {
    "name": "ipython",
    "version": 3
   },
   "file_extension": ".py",
   "mimetype": "text/x-python",
   "name": "python",
   "nbconvert_exporter": "python",
   "pygments_lexer": "ipython3",
   "version": "3.7.4"
  },
  "orig_nbformat": 4
 },
 "nbformat": 4,
 "nbformat_minor": 2
}
